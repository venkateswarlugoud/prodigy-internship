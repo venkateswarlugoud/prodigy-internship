{
  "cells": [
    {
      "cell_type": "code",
      "execution_count": null,
      "id": "63b228c0",
      "metadata": {
        "_cell_guid": "b1076dfc-b9ad-4769-8c92-a6c4dae69d19",
        "_uuid": "8f2839f25d086af736a60e9eeb907d3b93b6e0e5",
        "execution": {
          "iopub.execute_input": "2024-02-05T15:34:18.734041Z",
          "iopub.status.busy": "2024-02-05T15:34:18.732729Z",
          "iopub.status.idle": "2024-02-05T15:34:21.188608Z",
          "shell.execute_reply": "2024-02-05T15:34:21.187304Z"
        },
        "papermill": {
          "duration": 2.47422,
          "end_time": "2024-02-05T15:34:21.191589",
          "exception": false,
          "start_time": "2024-02-05T15:34:18.717369",
          "status": "completed"
        },
        "tags": [],
        "id": "63b228c0"
      },
      "outputs": [],
      "source": [
        "import pandas as pd\n",
        "import numpy as np\n",
        "import matplotlib.pyplot as plt\n",
        "import seaborn as sns"
      ]
    },
    {
      "cell_type": "code",
      "execution_count": null,
      "id": "e0c31401",
      "metadata": {
        "execution": {
          "iopub.execute_input": "2024-02-05T15:34:21.220588Z",
          "iopub.status.busy": "2024-02-05T15:34:21.219993Z",
          "iopub.status.idle": "2024-02-05T15:34:21.328881Z",
          "shell.execute_reply": "2024-02-05T15:34:21.327708Z"
        },
        "papermill": {
          "duration": 0.126344,
          "end_time": "2024-02-05T15:34:21.331741",
          "exception": false,
          "start_time": "2024-02-05T15:34:21.205397",
          "status": "completed"
        },
        "tags": [],
        "id": "e0c31401"
      },
      "outputs": [],
      "source": [
        "data = pd.read_csv(\"/content/housing_price_dataset.csv (1).zip\")"
      ]
    },
    {
      "cell_type": "code",
      "execution_count": null,
      "id": "5d977dcf",
      "metadata": {
        "execution": {
          "iopub.execute_input": "2024-02-05T15:34:21.360852Z",
          "iopub.status.busy": "2024-02-05T15:34:21.359969Z",
          "iopub.status.idle": "2024-02-05T15:34:21.385917Z",
          "shell.execute_reply": "2024-02-05T15:34:21.384646Z"
        },
        "papermill": {
          "duration": 0.043271,
          "end_time": "2024-02-05T15:34:21.388721",
          "exception": false,
          "start_time": "2024-02-05T15:34:21.345450",
          "status": "completed"
        },
        "tags": [],
        "colab": {
          "base_uri": "https://localhost:8080/",
          "height": 206
        },
        "id": "5d977dcf",
        "outputId": "116223c0-3a1c-4e87-c40e-124163633d22"
      },
      "outputs": [
        {
          "output_type": "execute_result",
          "data": {
            "text/plain": [
              "   SquareFeet  Bedrooms  Bathrooms Neighborhood  YearBuilt          Price\n",
              "0        2126         4          1        Rural       1969  215355.283618\n",
              "1        2459         3          2        Rural       1980  195014.221626\n",
              "2        1860         2          1       Suburb       1970  306891.012076\n",
              "3        2294         2          1        Urban       1996  206786.787153\n",
              "4        2130         5          2       Suburb       2001  272436.239065"
            ],
            "text/html": [
              "\n",
              "  <div id=\"df-508abb27-6bfe-4e62-bb32-5439ebae7553\" class=\"colab-df-container\">\n",
              "    <div>\n",
              "<style scoped>\n",
              "    .dataframe tbody tr th:only-of-type {\n",
              "        vertical-align: middle;\n",
              "    }\n",
              "\n",
              "    .dataframe tbody tr th {\n",
              "        vertical-align: top;\n",
              "    }\n",
              "\n",
              "    .dataframe thead th {\n",
              "        text-align: right;\n",
              "    }\n",
              "</style>\n",
              "<table border=\"1\" class=\"dataframe\">\n",
              "  <thead>\n",
              "    <tr style=\"text-align: right;\">\n",
              "      <th></th>\n",
              "      <th>SquareFeet</th>\n",
              "      <th>Bedrooms</th>\n",
              "      <th>Bathrooms</th>\n",
              "      <th>Neighborhood</th>\n",
              "      <th>YearBuilt</th>\n",
              "      <th>Price</th>\n",
              "    </tr>\n",
              "  </thead>\n",
              "  <tbody>\n",
              "    <tr>\n",
              "      <th>0</th>\n",
              "      <td>2126</td>\n",
              "      <td>4</td>\n",
              "      <td>1</td>\n",
              "      <td>Rural</td>\n",
              "      <td>1969</td>\n",
              "      <td>215355.283618</td>\n",
              "    </tr>\n",
              "    <tr>\n",
              "      <th>1</th>\n",
              "      <td>2459</td>\n",
              "      <td>3</td>\n",
              "      <td>2</td>\n",
              "      <td>Rural</td>\n",
              "      <td>1980</td>\n",
              "      <td>195014.221626</td>\n",
              "    </tr>\n",
              "    <tr>\n",
              "      <th>2</th>\n",
              "      <td>1860</td>\n",
              "      <td>2</td>\n",
              "      <td>1</td>\n",
              "      <td>Suburb</td>\n",
              "      <td>1970</td>\n",
              "      <td>306891.012076</td>\n",
              "    </tr>\n",
              "    <tr>\n",
              "      <th>3</th>\n",
              "      <td>2294</td>\n",
              "      <td>2</td>\n",
              "      <td>1</td>\n",
              "      <td>Urban</td>\n",
              "      <td>1996</td>\n",
              "      <td>206786.787153</td>\n",
              "    </tr>\n",
              "    <tr>\n",
              "      <th>4</th>\n",
              "      <td>2130</td>\n",
              "      <td>5</td>\n",
              "      <td>2</td>\n",
              "      <td>Suburb</td>\n",
              "      <td>2001</td>\n",
              "      <td>272436.239065</td>\n",
              "    </tr>\n",
              "  </tbody>\n",
              "</table>\n",
              "</div>\n",
              "    <div class=\"colab-df-buttons\">\n",
              "\n",
              "  <div class=\"colab-df-container\">\n",
              "    <button class=\"colab-df-convert\" onclick=\"convertToInteractive('df-508abb27-6bfe-4e62-bb32-5439ebae7553')\"\n",
              "            title=\"Convert this dataframe to an interactive table.\"\n",
              "            style=\"display:none;\">\n",
              "\n",
              "  <svg xmlns=\"http://www.w3.org/2000/svg\" height=\"24px\" viewBox=\"0 -960 960 960\">\n",
              "    <path d=\"M120-120v-720h720v720H120Zm60-500h600v-160H180v160Zm220 220h160v-160H400v160Zm0 220h160v-160H400v160ZM180-400h160v-160H180v160Zm440 0h160v-160H620v160ZM180-180h160v-160H180v160Zm440 0h160v-160H620v160Z\"/>\n",
              "  </svg>\n",
              "    </button>\n",
              "\n",
              "  <style>\n",
              "    .colab-df-container {\n",
              "      display:flex;\n",
              "      gap: 12px;\n",
              "    }\n",
              "\n",
              "    .colab-df-convert {\n",
              "      background-color: #E8F0FE;\n",
              "      border: none;\n",
              "      border-radius: 50%;\n",
              "      cursor: pointer;\n",
              "      display: none;\n",
              "      fill: #1967D2;\n",
              "      height: 32px;\n",
              "      padding: 0 0 0 0;\n",
              "      width: 32px;\n",
              "    }\n",
              "\n",
              "    .colab-df-convert:hover {\n",
              "      background-color: #E2EBFA;\n",
              "      box-shadow: 0px 1px 2px rgba(60, 64, 67, 0.3), 0px 1px 3px 1px rgba(60, 64, 67, 0.15);\n",
              "      fill: #174EA6;\n",
              "    }\n",
              "\n",
              "    .colab-df-buttons div {\n",
              "      margin-bottom: 4px;\n",
              "    }\n",
              "\n",
              "    [theme=dark] .colab-df-convert {\n",
              "      background-color: #3B4455;\n",
              "      fill: #D2E3FC;\n",
              "    }\n",
              "\n",
              "    [theme=dark] .colab-df-convert:hover {\n",
              "      background-color: #434B5C;\n",
              "      box-shadow: 0px 1px 3px 1px rgba(0, 0, 0, 0.15);\n",
              "      filter: drop-shadow(0px 1px 2px rgba(0, 0, 0, 0.3));\n",
              "      fill: #FFFFFF;\n",
              "    }\n",
              "  </style>\n",
              "\n",
              "    <script>\n",
              "      const buttonEl =\n",
              "        document.querySelector('#df-508abb27-6bfe-4e62-bb32-5439ebae7553 button.colab-df-convert');\n",
              "      buttonEl.style.display =\n",
              "        google.colab.kernel.accessAllowed ? 'block' : 'none';\n",
              "\n",
              "      async function convertToInteractive(key) {\n",
              "        const element = document.querySelector('#df-508abb27-6bfe-4e62-bb32-5439ebae7553');\n",
              "        const dataTable =\n",
              "          await google.colab.kernel.invokeFunction('convertToInteractive',\n",
              "                                                    [key], {});\n",
              "        if (!dataTable) return;\n",
              "\n",
              "        const docLinkHtml = 'Like what you see? Visit the ' +\n",
              "          '<a target=\"_blank\" href=https://colab.research.google.com/notebooks/data_table.ipynb>data table notebook</a>'\n",
              "          + ' to learn more about interactive tables.';\n",
              "        element.innerHTML = '';\n",
              "        dataTable['output_type'] = 'display_data';\n",
              "        await google.colab.output.renderOutput(dataTable, element);\n",
              "        const docLink = document.createElement('div');\n",
              "        docLink.innerHTML = docLinkHtml;\n",
              "        element.appendChild(docLink);\n",
              "      }\n",
              "    </script>\n",
              "  </div>\n",
              "\n",
              "\n",
              "<div id=\"df-4c926bd4-c9e9-4c60-aadf-a56f5b979e35\">\n",
              "  <button class=\"colab-df-quickchart\" onclick=\"quickchart('df-4c926bd4-c9e9-4c60-aadf-a56f5b979e35')\"\n",
              "            title=\"Suggest charts\"\n",
              "            style=\"display:none;\">\n",
              "\n",
              "<svg xmlns=\"http://www.w3.org/2000/svg\" height=\"24px\"viewBox=\"0 0 24 24\"\n",
              "     width=\"24px\">\n",
              "    <g>\n",
              "        <path d=\"M19 3H5c-1.1 0-2 .9-2 2v14c0 1.1.9 2 2 2h14c1.1 0 2-.9 2-2V5c0-1.1-.9-2-2-2zM9 17H7v-7h2v7zm4 0h-2V7h2v10zm4 0h-2v-4h2v4z\"/>\n",
              "    </g>\n",
              "</svg>\n",
              "  </button>\n",
              "\n",
              "<style>\n",
              "  .colab-df-quickchart {\n",
              "      --bg-color: #E8F0FE;\n",
              "      --fill-color: #1967D2;\n",
              "      --hover-bg-color: #E2EBFA;\n",
              "      --hover-fill-color: #174EA6;\n",
              "      --disabled-fill-color: #AAA;\n",
              "      --disabled-bg-color: #DDD;\n",
              "  }\n",
              "\n",
              "  [theme=dark] .colab-df-quickchart {\n",
              "      --bg-color: #3B4455;\n",
              "      --fill-color: #D2E3FC;\n",
              "      --hover-bg-color: #434B5C;\n",
              "      --hover-fill-color: #FFFFFF;\n",
              "      --disabled-bg-color: #3B4455;\n",
              "      --disabled-fill-color: #666;\n",
              "  }\n",
              "\n",
              "  .colab-df-quickchart {\n",
              "    background-color: var(--bg-color);\n",
              "    border: none;\n",
              "    border-radius: 50%;\n",
              "    cursor: pointer;\n",
              "    display: none;\n",
              "    fill: var(--fill-color);\n",
              "    height: 32px;\n",
              "    padding: 0;\n",
              "    width: 32px;\n",
              "  }\n",
              "\n",
              "  .colab-df-quickchart:hover {\n",
              "    background-color: var(--hover-bg-color);\n",
              "    box-shadow: 0 1px 2px rgba(60, 64, 67, 0.3), 0 1px 3px 1px rgba(60, 64, 67, 0.15);\n",
              "    fill: var(--button-hover-fill-color);\n",
              "  }\n",
              "\n",
              "  .colab-df-quickchart-complete:disabled,\n",
              "  .colab-df-quickchart-complete:disabled:hover {\n",
              "    background-color: var(--disabled-bg-color);\n",
              "    fill: var(--disabled-fill-color);\n",
              "    box-shadow: none;\n",
              "  }\n",
              "\n",
              "  .colab-df-spinner {\n",
              "    border: 2px solid var(--fill-color);\n",
              "    border-color: transparent;\n",
              "    border-bottom-color: var(--fill-color);\n",
              "    animation:\n",
              "      spin 1s steps(1) infinite;\n",
              "  }\n",
              "\n",
              "  @keyframes spin {\n",
              "    0% {\n",
              "      border-color: transparent;\n",
              "      border-bottom-color: var(--fill-color);\n",
              "      border-left-color: var(--fill-color);\n",
              "    }\n",
              "    20% {\n",
              "      border-color: transparent;\n",
              "      border-left-color: var(--fill-color);\n",
              "      border-top-color: var(--fill-color);\n",
              "    }\n",
              "    30% {\n",
              "      border-color: transparent;\n",
              "      border-left-color: var(--fill-color);\n",
              "      border-top-color: var(--fill-color);\n",
              "      border-right-color: var(--fill-color);\n",
              "    }\n",
              "    40% {\n",
              "      border-color: transparent;\n",
              "      border-right-color: var(--fill-color);\n",
              "      border-top-color: var(--fill-color);\n",
              "    }\n",
              "    60% {\n",
              "      border-color: transparent;\n",
              "      border-right-color: var(--fill-color);\n",
              "    }\n",
              "    80% {\n",
              "      border-color: transparent;\n",
              "      border-right-color: var(--fill-color);\n",
              "      border-bottom-color: var(--fill-color);\n",
              "    }\n",
              "    90% {\n",
              "      border-color: transparent;\n",
              "      border-bottom-color: var(--fill-color);\n",
              "    }\n",
              "  }\n",
              "</style>\n",
              "\n",
              "  <script>\n",
              "    async function quickchart(key) {\n",
              "      const quickchartButtonEl =\n",
              "        document.querySelector('#' + key + ' button');\n",
              "      quickchartButtonEl.disabled = true;  // To prevent multiple clicks.\n",
              "      quickchartButtonEl.classList.add('colab-df-spinner');\n",
              "      try {\n",
              "        const charts = await google.colab.kernel.invokeFunction(\n",
              "            'suggestCharts', [key], {});\n",
              "      } catch (error) {\n",
              "        console.error('Error during call to suggestCharts:', error);\n",
              "      }\n",
              "      quickchartButtonEl.classList.remove('colab-df-spinner');\n",
              "      quickchartButtonEl.classList.add('colab-df-quickchart-complete');\n",
              "    }\n",
              "    (() => {\n",
              "      let quickchartButtonEl =\n",
              "        document.querySelector('#df-4c926bd4-c9e9-4c60-aadf-a56f5b979e35 button');\n",
              "      quickchartButtonEl.style.display =\n",
              "        google.colab.kernel.accessAllowed ? 'block' : 'none';\n",
              "    })();\n",
              "  </script>\n",
              "</div>\n",
              "\n",
              "    </div>\n",
              "  </div>\n"
            ],
            "application/vnd.google.colaboratory.intrinsic+json": {
              "type": "dataframe",
              "variable_name": "data",
              "summary": "{\n  \"name\": \"data\",\n  \"rows\": 50000,\n  \"fields\": [\n    {\n      \"column\": \"SquareFeet\",\n      \"properties\": {\n        \"dtype\": \"number\",\n        \"std\": 575,\n        \"min\": 1000,\n        \"max\": 2999,\n        \"num_unique_values\": 2000,\n        \"samples\": [\n          2578,\n          2250,\n          1585\n        ],\n        \"semantic_type\": \"\",\n        \"description\": \"\"\n      }\n    },\n    {\n      \"column\": \"Bedrooms\",\n      \"properties\": {\n        \"dtype\": \"number\",\n        \"std\": 1,\n        \"min\": 2,\n        \"max\": 5,\n        \"num_unique_values\": 4,\n        \"samples\": [\n          3,\n          5,\n          4\n        ],\n        \"semantic_type\": \"\",\n        \"description\": \"\"\n      }\n    },\n    {\n      \"column\": \"Bathrooms\",\n      \"properties\": {\n        \"dtype\": \"number\",\n        \"std\": 0,\n        \"min\": 1,\n        \"max\": 3,\n        \"num_unique_values\": 3,\n        \"samples\": [\n          1,\n          2,\n          3\n        ],\n        \"semantic_type\": \"\",\n        \"description\": \"\"\n      }\n    },\n    {\n      \"column\": \"Neighborhood\",\n      \"properties\": {\n        \"dtype\": \"category\",\n        \"num_unique_values\": 3,\n        \"samples\": [\n          \"Rural\",\n          \"Suburb\",\n          \"Urban\"\n        ],\n        \"semantic_type\": \"\",\n        \"description\": \"\"\n      }\n    },\n    {\n      \"column\": \"YearBuilt\",\n      \"properties\": {\n        \"dtype\": \"number\",\n        \"std\": 20,\n        \"min\": 1950,\n        \"max\": 2021,\n        \"num_unique_values\": 72,\n        \"samples\": [\n          2001,\n          1967,\n          1962\n        ],\n        \"semantic_type\": \"\",\n        \"description\": \"\"\n      }\n    },\n    {\n      \"column\": \"Price\",\n      \"properties\": {\n        \"dtype\": \"number\",\n        \"std\": 76141.84296604691,\n        \"min\": -36588.16539749279,\n        \"max\": 492195.2599720151,\n        \"num_unique_values\": 50000,\n        \"samples\": [\n          170835.03571295898,\n          126913.4699981214,\n          246611.88309182983\n        ],\n        \"semantic_type\": \"\",\n        \"description\": \"\"\n      }\n    }\n  ]\n}"
            }
          },
          "metadata": {},
          "execution_count": 8
        }
      ],
      "source": [
        "data.head(5)"
      ]
    },
    {
      "cell_type": "code",
      "execution_count": null,
      "id": "f1a1e6f8",
      "metadata": {
        "execution": {
          "iopub.execute_input": "2024-02-05T15:34:21.418543Z",
          "iopub.status.busy": "2024-02-05T15:34:21.418056Z",
          "iopub.status.idle": "2024-02-05T15:34:21.424363Z",
          "shell.execute_reply": "2024-02-05T15:34:21.423380Z"
        },
        "papermill": {
          "duration": 0.024355,
          "end_time": "2024-02-05T15:34:21.427178",
          "exception": false,
          "start_time": "2024-02-05T15:34:21.402823",
          "status": "completed"
        },
        "tags": [],
        "id": "f1a1e6f8"
      },
      "outputs": [],
      "source": [
        "df = data.copy()"
      ]
    },
    {
      "cell_type": "markdown",
      "id": "caf8e28d",
      "metadata": {
        "papermill": {
          "duration": 0.013506,
          "end_time": "2024-02-05T15:34:21.454650",
          "exception": false,
          "start_time": "2024-02-05T15:34:21.441144",
          "status": "completed"
        },
        "tags": [],
        "id": "caf8e28d"
      },
      "source": []
    },
    {
      "cell_type": "markdown",
      "id": "18eb3148",
      "metadata": {
        "papermill": {
          "duration": 0.013455,
          "end_time": "2024-02-05T15:34:21.481872",
          "exception": false,
          "start_time": "2024-02-05T15:34:21.468417",
          "status": "completed"
        },
        "tags": [],
        "id": "18eb3148"
      },
      "source": [
        "# Initial Observations"
      ]
    },
    {
      "cell_type": "code",
      "execution_count": null,
      "id": "8c1f104a",
      "metadata": {
        "execution": {
          "iopub.execute_input": "2024-02-05T15:34:21.511402Z",
          "iopub.status.busy": "2024-02-05T15:34:21.510922Z",
          "iopub.status.idle": "2024-02-05T15:34:21.517939Z",
          "shell.execute_reply": "2024-02-05T15:34:21.516796Z"
        },
        "papermill": {
          "duration": 0.024798,
          "end_time": "2024-02-05T15:34:21.520528",
          "exception": false,
          "start_time": "2024-02-05T15:34:21.495730",
          "status": "completed"
        },
        "tags": [],
        "colab": {
          "base_uri": "https://localhost:8080/"
        },
        "id": "8c1f104a",
        "outputId": "12e42fed-628a-42e4-b2dc-0c59e363c67a"
      },
      "outputs": [
        {
          "output_type": "execute_result",
          "data": {
            "text/plain": [
              "(50000, 6)"
            ]
          },
          "metadata": {},
          "execution_count": 10
        }
      ],
      "source": [
        "df.shape"
      ]
    },
    {
      "cell_type": "code",
      "execution_count": null,
      "id": "bb397e17",
      "metadata": {
        "execution": {
          "iopub.execute_input": "2024-02-05T15:34:21.549765Z",
          "iopub.status.busy": "2024-02-05T15:34:21.549236Z",
          "iopub.status.idle": "2024-02-05T15:34:21.553768Z",
          "shell.execute_reply": "2024-02-05T15:34:21.552883Z"
        },
        "papermill": {
          "duration": 0.021657,
          "end_time": "2024-02-05T15:34:21.555892",
          "exception": false,
          "start_time": "2024-02-05T15:34:21.534235",
          "status": "completed"
        },
        "tags": [],
        "id": "bb397e17"
      },
      "outputs": [],
      "source": [
        "# We have 5 features 1 class\n",
        "# We Select Price as our class\n",
        "# As the values in the price column is quantitive, this is a regression problem"
      ]
    },
    {
      "cell_type": "code",
      "execution_count": null,
      "id": "4fdd699c",
      "metadata": {
        "execution": {
          "iopub.execute_input": "2024-02-05T15:34:21.585456Z",
          "iopub.status.busy": "2024-02-05T15:34:21.584753Z",
          "iopub.status.idle": "2024-02-05T15:34:21.619211Z",
          "shell.execute_reply": "2024-02-05T15:34:21.618145Z"
        },
        "papermill": {
          "duration": 0.052325,
          "end_time": "2024-02-05T15:34:21.621912",
          "exception": false,
          "start_time": "2024-02-05T15:34:21.569587",
          "status": "completed"
        },
        "tags": [],
        "id": "4fdd699c"
      },
      "outputs": [],
      "source": [
        "corr = df.drop(\"Neighborhood\",axis = 1).corr()"
      ]
    },
    {
      "cell_type": "code",
      "execution_count": null,
      "id": "56062108",
      "metadata": {
        "execution": {
          "iopub.execute_input": "2024-02-05T15:34:21.651483Z",
          "iopub.status.busy": "2024-02-05T15:34:21.650996Z",
          "iopub.status.idle": "2024-02-05T15:34:22.302942Z",
          "shell.execute_reply": "2024-02-05T15:34:22.301846Z"
        },
        "papermill": {
          "duration": 0.669637,
          "end_time": "2024-02-05T15:34:22.305356",
          "exception": false,
          "start_time": "2024-02-05T15:34:21.635719",
          "status": "completed"
        },
        "tags": [],
        "colab": {
          "base_uri": "https://localhost:8080/",
          "height": 1000
        },
        "id": "56062108",
        "outputId": "81a3691a-6e96-4c31-f154-888528f3fe5f"
      },
      "outputs": [
        {
          "output_type": "display_data",
          "data": {
            "text/plain": [
              "<Figure size 2000x2000 with 2 Axes>"
            ],
            "image/png": "[encoded data removed]"
          },
          "metadata": {}
        }
      ],
      "source": [
        "plt.figure(figsize=(20, 20))\n",
        "sns.heatmap(corr, annot=True, cmap=\"coolwarm\", fmt=\".3f\", linewidths=0.5)\n",
        "plt.title(\"Correlation Matrix\")\n",
        "plt.show()"
      ]
    },
    {
      "cell_type": "code",
      "execution_count": null,
      "id": "95f4033f",
      "metadata": {
        "execution": {
          "iopub.execute_input": "2024-02-05T15:34:22.337573Z",
          "iopub.status.busy": "2024-02-05T15:34:22.336638Z",
          "iopub.status.idle": "2024-02-05T15:34:22.341231Z",
          "shell.execute_reply": "2024-02-05T15:34:22.340168Z"
        },
        "papermill": {
          "duration": 0.023764,
          "end_time": "2024-02-05T15:34:22.343776",
          "exception": false,
          "start_time": "2024-02-05T15:34:22.320012",
          "status": "completed"
        },
        "tags": [],
        "id": "95f4033f"
      },
      "outputs": [],
      "source": [
        "# Squarefeet has a very good correlation with Price"
      ]
    },
    {
      "cell_type": "markdown",
      "id": "c5acaafe",
      "metadata": {
        "execution": {
          "iopub.execute_input": "2024-01-05T18:19:03.671822Z",
          "iopub.status.busy": "2024-01-05T18:19:03.671270Z",
          "iopub.status.idle": "2024-01-05T18:19:03.677526Z",
          "shell.execute_reply": "2024-01-05T18:19:03.676369Z",
          "shell.execute_reply.started": "2024-01-05T18:19:03.671782Z"
        },
        "papermill": {
          "duration": 0.014629,
          "end_time": "2024-02-05T15:34:22.373725",
          "exception": false,
          "start_time": "2024-02-05T15:34:22.359096",
          "status": "completed"
        },
        "tags": [],
        "id": "c5acaafe"
      },
      "source": [
        "# Data Preprocessing"
      ]
    },
    {
      "cell_type": "markdown",
      "id": "6e99ac39",
      "metadata": {
        "execution": {
          "iopub.execute_input": "2024-01-05T18:19:09.192437Z",
          "iopub.status.busy": "2024-01-05T18:19:09.192052Z",
          "iopub.status.idle": "2024-01-05T18:19:09.196907Z",
          "shell.execute_reply": "2024-01-05T18:19:09.195750Z",
          "shell.execute_reply.started": "2024-01-05T18:19:09.192409Z"
        },
        "papermill": {
          "duration": 0.014686,
          "end_time": "2024-02-05T15:34:22.403354",
          "exception": false,
          "start_time": "2024-02-05T15:34:22.388668",
          "status": "completed"
        },
        "tags": [],
        "id": "6e99ac39"
      },
      "source": [
        "## Null and Duplicate value handling"
      ]
    },
    {
      "cell_type": "code",
      "execution_count": null,
      "id": "489682e6",
      "metadata": {
        "execution": {
          "iopub.execute_input": "2024-02-05T15:34:22.436104Z",
          "iopub.status.busy": "2024-02-05T15:34:22.435407Z",
          "iopub.status.idle": "2024-02-05T15:34:22.450522Z",
          "shell.execute_reply": "2024-02-05T15:34:22.449085Z"
        },
        "papermill": {
          "duration": 0.034397,
          "end_time": "2024-02-05T15:34:22.453285",
          "exception": false,
          "start_time": "2024-02-05T15:34:22.418888",
          "status": "completed"
        },
        "tags": [],
        "colab": {
          "base_uri": "https://localhost:8080/"
        },
        "id": "489682e6",
        "outputId": "b32517f8-35b4-42f8-e867-a7c65c09cc22"
      },
      "outputs": [
        {
          "output_type": "execute_result",
          "data": {
            "text/plain": [
              "SquareFeet      0\n",
              "Bedrooms        0\n",
              "Bathrooms       0\n",
              "Neighborhood    0\n",
              "YearBuilt       0\n",
              "Price           0\n",
              "dtype: int64"
            ]
          },
          "metadata": {},
          "execution_count": 15
        }
      ],
      "source": [
        "df.isna().sum()"
      ]
    },
    {
      "cell_type": "code",
      "execution_count": null,
      "id": "b4ffe980",
      "metadata": {
        "execution": {
          "iopub.execute_input": "2024-02-05T15:34:22.485566Z",
          "iopub.status.busy": "2024-02-05T15:34:22.485134Z",
          "iopub.status.idle": "2024-02-05T15:34:22.490626Z",
          "shell.execute_reply": "2024-02-05T15:34:22.489598Z"
        },
        "papermill": {
          "duration": 0.024306,
          "end_time": "2024-02-05T15:34:22.492882",
          "exception": false,
          "start_time": "2024-02-05T15:34:22.468576",
          "status": "completed"
        },
        "tags": [],
        "id": "b4ffe980"
      },
      "outputs": [],
      "source": [
        "# No null values present in the dataset"
      ]
    },
    {
      "cell_type": "code",
      "execution_count": null,
      "id": "37d5bbca",
      "metadata": {
        "execution": {
          "iopub.execute_input": "2024-02-05T15:34:22.525874Z",
          "iopub.status.busy": "2024-02-05T15:34:22.524692Z",
          "iopub.status.idle": "2024-02-05T15:34:22.553252Z",
          "shell.execute_reply": "2024-02-05T15:34:22.552066Z"
        },
        "papermill": {
          "duration": 0.048102,
          "end_time": "2024-02-05T15:34:22.555873",
          "exception": false,
          "start_time": "2024-02-05T15:34:22.507771",
          "status": "completed"
        },
        "tags": [],
        "colab": {
          "base_uri": "https://localhost:8080/"
        },
        "id": "37d5bbca",
        "outputId": "0570d1ea-d527-4f19-dfa1-bba2d41f3ea6"
      },
      "outputs": [
        {
          "output_type": "execute_result",
          "data": {
            "text/plain": [
              "0"
            ]
          },
          "metadata": {},
          "execution_count": 17
        }
      ],
      "source": [
        "df.duplicated().sum()"
      ]
    },
    {
      "cell_type": "code",
      "execution_count": null,
      "id": "7775fbac",
      "metadata": {
        "execution": {
          "iopub.execute_input": "2024-02-05T15:34:22.588950Z",
          "iopub.status.busy": "2024-02-05T15:34:22.587717Z",
          "iopub.status.idle": "2024-02-05T15:34:22.593154Z",
          "shell.execute_reply": "2024-02-05T15:34:22.592281Z"
        },
        "papermill": {
          "duration": 0.024562,
          "end_time": "2024-02-05T15:34:22.595694",
          "exception": false,
          "start_time": "2024-02-05T15:34:22.571132",
          "status": "completed"
        },
        "tags": [],
        "id": "7775fbac"
      },
      "outputs": [],
      "source": [
        "# No duplicate value in the dataset"
      ]
    },
    {
      "cell_type": "markdown",
      "id": "c9dbe097",
      "metadata": {
        "execution": {
          "iopub.execute_input": "2024-01-05T18:20:28.988174Z",
          "iopub.status.busy": "2024-01-05T18:20:28.987720Z",
          "iopub.status.idle": "2024-01-05T18:20:28.993113Z",
          "shell.execute_reply": "2024-01-05T18:20:28.992213Z",
          "shell.execute_reply.started": "2024-01-05T18:20:28.988139Z"
        },
        "papermill": {
          "duration": 0.014777,
          "end_time": "2024-02-05T15:34:22.625543",
          "exception": false,
          "start_time": "2024-02-05T15:34:22.610766",
          "status": "completed"
        },
        "tags": [],
        "id": "c9dbe097"
      },
      "source": [
        "## Encoding"
      ]
    },
    {
      "cell_type": "code",
      "execution_count": null,
      "id": "4e703f32",
      "metadata": {
        "execution": {
          "iopub.execute_input": "2024-02-05T15:34:22.721855Z",
          "iopub.status.busy": "2024-02-05T15:34:22.721437Z",
          "iopub.status.idle": "2024-02-05T15:34:22.730360Z",
          "shell.execute_reply": "2024-02-05T15:34:22.729110Z"
        },
        "papermill": {
          "duration": 0.092466,
          "end_time": "2024-02-05T15:34:22.733017",
          "exception": false,
          "start_time": "2024-02-05T15:34:22.640551",
          "status": "completed"
        },
        "tags": [],
        "colab": {
          "base_uri": "https://localhost:8080/"
        },
        "id": "4e703f32",
        "outputId": "cce1151a-f591-4152-90f1-5c6b2b6b67c2"
      },
      "outputs": [
        {
          "output_type": "execute_result",
          "data": {
            "text/plain": [
              "SquareFeet        int64\n",
              "Bedrooms          int64\n",
              "Bathrooms         int64\n",
              "Neighborhood     object\n",
              "YearBuilt         int64\n",
              "Price           float64\n",
              "dtype: object"
            ]
          },
          "metadata": {},
          "execution_count": 19
        }
      ],
      "source": [
        "df.dtypes"
      ]
    },
    {
      "cell_type": "code",
      "execution_count": null,
      "id": "1f3b7719",
      "metadata": {
        "execution": {
          "iopub.execute_input": "2024-02-05T15:34:22.767580Z",
          "iopub.status.busy": "2024-02-05T15:34:22.767148Z",
          "iopub.status.idle": "2024-02-05T15:34:22.785499Z",
          "shell.execute_reply": "2024-02-05T15:34:22.784303Z"
        },
        "papermill": {
          "duration": 0.039516,
          "end_time": "2024-02-05T15:34:22.788988",
          "exception": false,
          "start_time": "2024-02-05T15:34:22.749472",
          "status": "completed"
        },
        "tags": [],
        "colab": {
          "base_uri": "https://localhost:8080/"
        },
        "id": "1f3b7719",
        "outputId": "0218ff34-f799-4950-8045-93531961425a"
      },
      "outputs": [
        {
          "output_type": "execute_result",
          "data": {
            "text/plain": [
              "SquareFeet       2000\n",
              "Bedrooms            4\n",
              "Bathrooms           3\n",
              "Neighborhood        3\n",
              "YearBuilt          72\n",
              "Price           50000\n",
              "dtype: int64"
            ]
          },
          "metadata": {},
          "execution_count": 20
        }
      ],
      "source": [
        "df.nunique()"
      ]
    },
    {
      "cell_type": "code",
      "execution_count": null,
      "id": "dc906018",
      "metadata": {
        "execution": {
          "iopub.execute_input": "2024-02-05T15:34:22.826126Z",
          "iopub.status.busy": "2024-02-05T15:34:22.824523Z",
          "iopub.status.idle": "2024-02-05T15:34:22.831140Z",
          "shell.execute_reply": "2024-02-05T15:34:22.829609Z"
        },
        "papermill": {
          "duration": 0.028446,
          "end_time": "2024-02-05T15:34:22.834461",
          "exception": false,
          "start_time": "2024-02-05T15:34:22.806015",
          "status": "completed"
        },
        "tags": [],
        "id": "dc906018"
      },
      "outputs": [],
      "source": [
        "# We can encode the Neighborhood column"
      ]
    },
    {
      "cell_type": "code",
      "execution_count": null,
      "id": "e25bd4c1",
      "metadata": {
        "execution": {
          "iopub.execute_input": "2024-02-05T15:34:22.868408Z",
          "iopub.status.busy": "2024-02-05T15:34:22.867905Z",
          "iopub.status.idle": "2024-02-05T15:34:23.053365Z",
          "shell.execute_reply": "2024-02-05T15:34:23.052334Z"
        },
        "papermill": {
          "duration": 0.205837,
          "end_time": "2024-02-05T15:34:23.056377",
          "exception": false,
          "start_time": "2024-02-05T15:34:22.850540",
          "status": "completed"
        },
        "tags": [],
        "id": "e25bd4c1"
      },
      "outputs": [],
      "source": [
        "from sklearn.preprocessing import LabelEncoder"
      ]
    },
    {
      "cell_type": "code",
      "execution_count": null,
      "id": "6d5f1546",
      "metadata": {
        "execution": {
          "iopub.execute_input": "2024-02-05T15:34:23.089309Z",
          "iopub.status.busy": "2024-02-05T15:34:23.088888Z",
          "iopub.status.idle": "2024-02-05T15:34:23.094560Z",
          "shell.execute_reply": "2024-02-05T15:34:23.093107Z"
        },
        "papermill": {
          "duration": 0.024897,
          "end_time": "2024-02-05T15:34:23.097064",
          "exception": false,
          "start_time": "2024-02-05T15:34:23.072167",
          "status": "completed"
        },
        "tags": [],
        "id": "6d5f1546"
      },
      "outputs": [],
      "source": [
        "encoder = LabelEncoder()"
      ]
    },
    {
      "cell_type": "code",
      "execution_count": null,
      "id": "8428bdaa",
      "metadata": {
        "execution": {
          "iopub.execute_input": "2024-02-05T15:34:23.132982Z",
          "iopub.status.busy": "2024-02-05T15:34:23.131708Z",
          "iopub.status.idle": "2024-02-05T15:34:23.160482Z",
          "shell.execute_reply": "2024-02-05T15:34:23.158945Z"
        },
        "papermill": {
          "duration": 0.050722,
          "end_time": "2024-02-05T15:34:23.164002",
          "exception": false,
          "start_time": "2024-02-05T15:34:23.113280",
          "status": "completed"
        },
        "tags": [],
        "colab": {
          "base_uri": "https://localhost:8080/"
        },
        "id": "8428bdaa",
        "outputId": "956bd076-db6f-4bae-937f-0e143cb03934"
      },
      "outputs": [
        {
          "output_type": "stream",
          "name": "stderr",
          "text": [
            "/usr/local/lib/python3.10/dist-packages/sklearn/preprocessing/_label.py:116: DataConversionWarning: A column-vector y was passed when a 1d array was expected. Please change the shape of y to (n_samples, ), for example using ravel().\n",
            "  y = column_or_1d(y, warn=True)\n"
          ]
        }
      ],
      "source": [
        "df[\"Neighborhood\"] = encoder.fit_transform(df[[\"Neighborhood\"]])"
      ]
    },
    {
      "cell_type": "code",
      "execution_count": null,
      "id": "f751dd88",
      "metadata": {
        "execution": {
          "iopub.execute_input": "2024-02-05T15:34:23.199309Z",
          "iopub.status.busy": "2024-02-05T15:34:23.198731Z",
          "iopub.status.idle": "2024-02-05T15:34:23.213095Z",
          "shell.execute_reply": "2024-02-05T15:34:23.211887Z"
        },
        "papermill": {
          "duration": 0.03588,
          "end_time": "2024-02-05T15:34:23.215677",
          "exception": false,
          "start_time": "2024-02-05T15:34:23.179797",
          "status": "completed"
        },
        "tags": [],
        "colab": {
          "base_uri": "https://localhost:8080/",
          "height": 206
        },
        "id": "f751dd88",
        "outputId": "f7fdcae5-5ea5-47b9-a740-8b9aaa975a2d"
      },
      "outputs": [
        {
          "output_type": "execute_result",
          "data": {
            "text/plain": [
              "   SquareFeet  Bedrooms  Bathrooms  Neighborhood  YearBuilt          Price\n",
              "0        2126         4          1             0       1969  215355.283618\n",
              "1        2459         3          2             0       1980  195014.221626\n",
              "2        1860         2          1             1       1970  306891.012076\n",
              "3        2294         2          1             2       1996  206786.787153\n",
              "4        2130         5          2             1       2001  272436.239065"
            ],
            "text/html": [
              "\n",
              "  <div id=\"df-48ab262b-b383-4538-b81c-36ef8af6122a\" class=\"colab-df-container\">\n",
              "    <div>\n",
              "<style scoped>\n",
              "    .dataframe tbody tr th:only-of-type {\n",
              "        vertical-align: middle;\n",
              "    }\n",
              "\n",
              "    .dataframe tbody tr th {\n",
              "        vertical-align: top;\n",
              "    }\n",
              "\n",
              "    .dataframe thead th {\n",
              "        text-align: right;\n",
              "    }\n",
              "</style>\n",
              "<table border=\"1\" class=\"dataframe\">\n",
              "  <thead>\n",
              "    <tr style=\"text-align: right;\">\n",
              "      <th></th>\n",
              "      <th>SquareFeet</th>\n",
              "      <th>Bedrooms</th>\n",
              "      <th>Bathrooms</th>\n",
              "      <th>Neighborhood</th>\n",
              "      <th>YearBuilt</th>\n",
              "      <th>Price</th>\n",
              "    </tr>\n",
              "  </thead>\n",
              "  <tbody>\n",
              "    <tr>\n",
              "      <th>0</th>\n",
              "      <td>2126</td>\n",
              "      <td>4</td>\n",
              "      <td>1</td>\n",
              "      <td>0</td>\n",
              "      <td>1969</td>\n",
              "      <td>215355.283618</td>\n",
              "    </tr>\n",
              "    <tr>\n",
              "      <th>1</th>\n",
              "      <td>2459</td>\n",
              "      <td>3</td>\n",
              "      <td>2</td>\n",
              "      <td>0</td>\n",
              "      <td>1980</td>\n",
              "      <td>195014.221626</td>\n",
              "    </tr>\n",
              "    <tr>\n",
              "      <th>2</th>\n",
              "      <td>1860</td>\n",
              "      <td>2</td>\n",
              "      <td>1</td>\n",
              "      <td>1</td>\n",
              "      <td>1970</td>\n",
              "      <td>306891.012076</td>\n",
              "    </tr>\n",
              "    <tr>\n",
              "      <th>3</th>\n",
              "      <td>2294</td>\n",
              "      <td>2</td>\n",
              "      <td>1</td>\n",
              "      <td>2</td>\n",
              "      <td>1996</td>\n",
              "      <td>206786.787153</td>\n",
              "    </tr>\n",
              "    <tr>\n",
              "      <th>4</th>\n",
              "      <td>2130</td>\n",
              "      <td>5</td>\n",
              "      <td>2</td>\n",
              "      <td>1</td>\n",
              "      <td>2001</td>\n",
              "      <td>272436.239065</td>\n",
              "    </tr>\n",
              "  </tbody>\n",
              "</table>\n",
              "</div>\n",
              "    <div class=\"colab-df-buttons\">\n",
              "\n",
              "  <div class=\"colab-df-container\">\n",
              "    <button class=\"colab-df-convert\" onclick=\"convertToInteractive('df-48ab262b-b383-4538-b81c-36ef8af6122a')\"\n",
              "            title=\"Convert this dataframe to an interactive table.\"\n",
              "            style=\"display:none;\">\n",
              "\n",
              "  <svg xmlns=\"http://www.w3.org/2000/svg\" height=\"24px\" viewBox=\"0 -960 960 960\">\n",
              "    <path d=\"M120-120v-720h720v720H120Zm60-500h600v-160H180v160Zm220 220h160v-160H400v160Zm0 220h160v-160H400v160ZM180-400h160v-160H180v160Zm440 0h160v-160H620v160ZM180-180h160v-160H180v160Zm440 0h160v-160H620v160Z\"/>\n",
              "  </svg>\n",
              "    </button>\n",
              "\n",
              "  <style>\n",
              "    .colab-df-container {\n",
              "      display:flex;\n",
              "      gap: 12px;\n",
              "    }\n",
              "\n",
              "    .colab-df-convert {\n",
              "      background-color: #E8F0FE;\n",
              "      border: none;\n",
              "      border-radius: 50%;\n",
              "      cursor: pointer;\n",
              "      display: none;\n",
              "      fill: #1967D2;\n",
              "      height: 32px;\n",
              "      padding: 0 0 0 0;\n",
              "      width: 32px;\n",
              "    }\n",
              "\n",
              "    .colab-df-convert:hover {\n",
              "      background-color: #E2EBFA;\n",
              "      box-shadow: 0px 1px 2px rgba(60, 64, 67, 0.3), 0px 1px 3px 1px rgba(60, 64, 67, 0.15);\n",
              "      fill: #174EA6;\n",
              "    }\n",
              "\n",
              "    .colab-df-buttons div {\n",
              "      margin-bottom: 4px;\n",
              "    }\n",
              "\n",
              "    [theme=dark] .colab-df-convert {\n",
              "      background-color: #3B4455;\n",
              "      fill: #D2E3FC;\n",
              "    }\n",
              "\n",
              "    [theme=dark] .colab-df-convert:hover {\n",
              "      background-color: #434B5C;\n",
              "      box-shadow: 0px 1px 3px 1px rgba(0, 0, 0, 0.15);\n",
              "      filter: drop-shadow(0px 1px 2px rgba(0, 0, 0, 0.3));\n",
              "      fill: #FFFFFF;\n",
              "    }\n",
              "  </style>\n",
              "\n",
              "    <script>\n",
              "      const buttonEl =\n",
              "        document.querySelector('#df-48ab262b-b383-4538-b81c-36ef8af6122a button.colab-df-convert');\n",
              "      buttonEl.style.display =\n",
              "        google.colab.kernel.accessAllowed ? 'block' : 'none';\n",
              "\n",
              "      async function convertToInteractive(key) {\n",
              "        const element = document.querySelector('#df-48ab262b-b383-4538-b81c-36ef8af6122a');\n",
              "        const dataTable =\n",
              "          await google.colab.kernel.invokeFunction('convertToInteractive',\n",
              "                                                    [key], {});\n",
              "        if (!dataTable) return;\n",
              "\n",
              "        const docLinkHtml = 'Like what you see? Visit the ' +\n",
              "          '<a target=\"_blank\" href=https://colab.research.google.com/notebooks/data_table.ipynb>data table notebook</a>'\n",
              "          + ' to learn more about interactive tables.';\n",
              "        element.innerHTML = '';\n",
              "        dataTable['output_type'] = 'display_data';\n",
              "        await google.colab.output.renderOutput(dataTable, element);\n",
              "        const docLink = document.createElement('div');\n",
              "        docLink.innerHTML = docLinkHtml;\n",
              "        element.appendChild(docLink);\n",
              "      }\n",
              "    </script>\n",
              "  </div>\n",
              "\n",
              "\n",
              "<div id=\"df-94e476f0-edbb-490a-a20f-e8eb43c33a98\">\n",
              "  <button class=\"colab-df-quickchart\" onclick=\"quickchart('df-94e476f0-edbb-490a-a20f-e8eb43c33a98')\"\n",
              "            title=\"Suggest charts\"\n",
              "            style=\"display:none;\">\n",
              "\n",
              "<svg xmlns=\"http://www.w3.org/2000/svg\" height=\"24px\"viewBox=\"0 0 24 24\"\n",
              "     width=\"24px\">\n",
              "    <g>\n",
              "        <path d=\"M19 3H5c-1.1 0-2 .9-2 2v14c0 1.1.9 2 2 2h14c1.1 0 2-.9 2-2V5c0-1.1-.9-2-2-2zM9 17H7v-7h2v7zm4 0h-2V7h2v10zm4 0h-2v-4h2v4z\"/>\n",
              "    </g>\n",
              "</svg>\n",
              "  </button>\n",
              "\n",
              "<style>\n",
              "  .colab-df-quickchart {\n",
              "      --bg-color: #E8F0FE;\n",
              "      --fill-color: #1967D2;\n",
              "      --hover-bg-color: #E2EBFA;\n",
              "      --hover-fill-color: #174EA6;\n",
              "      --disabled-fill-color: #AAA;\n",
              "      --disabled-bg-color: #DDD;\n",
              "  }\n",
              "\n",
              "  [theme=dark] .colab-df-quickchart {\n",
              "      --bg-color: #3B4455;\n",
              "      --fill-color: #D2E3FC;\n",
              "      --hover-bg-color: #434B5C;\n",
              "      --hover-fill-color: #FFFFFF;\n",
              "      --disabled-bg-color: #3B4455;\n",
              "      --disabled-fill-color: #666;\n",
              "  }\n",
              "\n",
              "  .colab-df-quickchart {\n",
              "    background-color: var(--bg-color);\n",
              "    border: none;\n",
              "    border-radius: 50%;\n",
              "    cursor: pointer;\n",
              "    display: none;\n",
              "    fill: var(--fill-color);\n",
              "    height: 32px;\n",
              "    padding: 0;\n",
              "    width: 32px;\n",
              "  }\n",
              "\n",
              "  .colab-df-quickchart:hover {\n",
              "    background-color: var(--hover-bg-color);\n",
              "    box-shadow: 0 1px 2px rgba(60, 64, 67, 0.3), 0 1px 3px 1px rgba(60, 64, 67, 0.15);\n",
              "    fill: var(--button-hover-fill-color);\n",
              "  }\n",
              "\n",
              "  .colab-df-quickchart-complete:disabled,\n",
              "  .colab-df-quickchart-complete:disabled:hover {\n",
              "    background-color: var(--disabled-bg-color);\n",
              "    fill: var(--disabled-fill-color);\n",
              "    box-shadow: none;\n",
              "  }\n",
              "\n",
              "  .colab-df-spinner {\n",
              "    border: 2px solid var(--fill-color);\n",
              "    border-color: transparent;\n",
              "    border-bottom-color: var(--fill-color);\n",
              "    animation:\n",
              "      spin 1s steps(1) infinite;\n",
              "  }\n",
              "\n",
              "  @keyframes spin {\n",
              "    0% {\n",
              "      border-color: transparent;\n",
              "      border-bottom-color: var(--fill-color);\n",
              "      border-left-color: var(--fill-color);\n",
              "    }\n",
              "    20% {\n",
              "      border-color: transparent;\n",
              "      border-left-color: var(--fill-color);\n",
              "      border-top-color: var(--fill-color);\n",
              "    }\n",
              "    30% {\n",
              "      border-color: transparent;\n",
              "      border-left-color: var(--fill-color);\n",
              "      border-top-color: var(--fill-color);\n",
              "      border-right-color: var(--fill-color);\n",
              "    }\n",
              "    40% {\n",
              "      border-color: transparent;\n",
              "      border-right-color: var(--fill-color);\n",
              "      border-top-color: var(--fill-color);\n",
              "    }\n",
              "    60% {\n",
              "      border-color: transparent;\n",
              "      border-right-color: var(--fill-color);\n",
              "    }\n",
              "    80% {\n",
              "      border-color: transparent;\n",
              "      border-right-color: var(--fill-color);\n",
              "      border-bottom-color: var(--fill-color);\n",
              "    }\n",
              "    90% {\n",
              "      border-color: transparent;\n",
              "      border-bottom-color: var(--fill-color);\n",
              "    }\n",
              "  }\n",
              "</style>\n",
              "\n",
              "  <script>\n",
              "    async function quickchart(key) {\n",
              "      const quickchartButtonEl =\n",
              "        document.querySelector('#' + key + ' button');\n",
              "      quickchartButtonEl.disabled = true;  // To prevent multiple clicks.\n",
              "      quickchartButtonEl.classList.add('colab-df-spinner');\n",
              "      try {\n",
              "        const charts = await google.colab.kernel.invokeFunction(\n",
              "            'suggestCharts', [key], {});\n",
              "      } catch (error) {\n",
              "        console.error('Error during call to suggestCharts:', error);\n",
              "      }\n",
              "      quickchartButtonEl.classList.remove('colab-df-spinner');\n",
              "      quickchartButtonEl.classList.add('colab-df-quickchart-complete');\n",
              "    }\n",
              "    (() => {\n",
              "      let quickchartButtonEl =\n",
              "        document.querySelector('#df-94e476f0-edbb-490a-a20f-e8eb43c33a98 button');\n",
              "      quickchartButtonEl.style.display =\n",
              "        google.colab.kernel.accessAllowed ? 'block' : 'none';\n",
              "    })();\n",
              "  </script>\n",
              "</div>\n",
              "\n",
              "    </div>\n",
              "  </div>\n"
            ],
            "application/vnd.google.colaboratory.intrinsic+json": {
              "type": "dataframe",
              "variable_name": "df",
              "summary": "{\n  \"name\": \"df\",\n  \"rows\": 50000,\n  \"fields\": [\n    {\n      \"column\": \"SquareFeet\",\n      \"properties\": {\n        \"dtype\": \"number\",\n        \"std\": 575,\n        \"min\": 1000,\n        \"max\": 2999,\n        \"num_unique_values\": 2000,\n        \"samples\": [\n          2578,\n          2250,\n          1585\n        ],\n        \"semantic_type\": \"\",\n        \"description\": \"\"\n      }\n    },\n    {\n      \"column\": \"Bedrooms\",\n      \"properties\": {\n        \"dtype\": \"number\",\n        \"std\": 1,\n        \"min\": 2,\n        \"max\": 5,\n        \"num_unique_values\": 4,\n        \"samples\": [\n          3,\n          5,\n          4\n        ],\n        \"semantic_type\": \"\",\n        \"description\": \"\"\n      }\n    },\n    {\n      \"column\": \"Bathrooms\",\n      \"properties\": {\n        \"dtype\": \"number\",\n        \"std\": 0,\n        \"min\": 1,\n        \"max\": 3,\n        \"num_unique_values\": 3,\n        \"samples\": [\n          1,\n          2,\n          3\n        ],\n        \"semantic_type\": \"\",\n        \"description\": \"\"\n      }\n    },\n    {\n      \"column\": \"Neighborhood\",\n      \"properties\": {\n        \"dtype\": \"number\",\n        \"std\": 0,\n        \"min\": 0,\n        \"max\": 2,\n        \"num_unique_values\": 3,\n        \"samples\": [\n          0,\n          1,\n          2\n        ],\n        \"semantic_type\": \"\",\n        \"description\": \"\"\n      }\n    },\n    {\n      \"column\": \"YearBuilt\",\n      \"properties\": {\n        \"dtype\": \"number\",\n        \"std\": 20,\n        \"min\": 1950,\n        \"max\": 2021,\n        \"num_unique_values\": 72,\n        \"samples\": [\n          2001,\n          1967,\n          1962\n        ],\n        \"semantic_type\": \"\",\n        \"description\": \"\"\n      }\n    },\n    {\n      \"column\": \"Price\",\n      \"properties\": {\n        \"dtype\": \"number\",\n        \"std\": 76141.84296604691,\n        \"min\": -36588.16539749279,\n        \"max\": 492195.2599720151,\n        \"num_unique_values\": 50000,\n        \"samples\": [\n          170835.03571295898,\n          126913.4699981214,\n          246611.88309182983\n        ],\n        \"semantic_type\": \"\",\n        \"description\": \"\"\n      }\n    }\n  ]\n}"
            }
          },
          "metadata": {},
          "execution_count": 25
        }
      ],
      "source": [
        "df.head(5)"
      ]
    },
    {
      "cell_type": "code",
      "execution_count": null,
      "id": "d8b45223",
      "metadata": {
        "execution": {
          "iopub.execute_input": "2024-02-05T15:34:23.250234Z",
          "iopub.status.busy": "2024-02-05T15:34:23.249372Z",
          "iopub.status.idle": "2024-02-05T15:34:23.256902Z",
          "shell.execute_reply": "2024-02-05T15:34:23.255775Z"
        },
        "papermill": {
          "duration": 0.028028,
          "end_time": "2024-02-05T15:34:23.259675",
          "exception": false,
          "start_time": "2024-02-05T15:34:23.231647",
          "status": "completed"
        },
        "tags": [],
        "id": "d8b45223"
      },
      "outputs": [],
      "source": [
        "# Separating class and features\n",
        "X = df.drop(\"Price\",axis = 1)\n",
        "y = df[\"Price\"]"
      ]
    },
    {
      "cell_type": "markdown",
      "id": "1abd7eca",
      "metadata": {
        "papermill": {
          "duration": 0.015751,
          "end_time": "2024-02-05T15:34:23.291444",
          "exception": false,
          "start_time": "2024-02-05T15:34:23.275693",
          "status": "completed"
        },
        "tags": [],
        "id": "1abd7eca"
      },
      "source": [
        "## Scaling"
      ]
    },
    {
      "cell_type": "code",
      "execution_count": null,
      "id": "a507cff5",
      "metadata": {
        "execution": {
          "iopub.execute_input": "2024-02-05T15:34:23.325343Z",
          "iopub.status.busy": "2024-02-05T15:34:23.324891Z",
          "iopub.status.idle": "2024-02-05T15:34:23.336251Z",
          "shell.execute_reply": "2024-02-05T15:34:23.334833Z"
        },
        "papermill": {
          "duration": 0.031522,
          "end_time": "2024-02-05T15:34:23.338772",
          "exception": false,
          "start_time": "2024-02-05T15:34:23.307250",
          "status": "completed"
        },
        "tags": [],
        "colab": {
          "base_uri": "https://localhost:8080/"
        },
        "id": "a507cff5",
        "outputId": "82d4ad3e-6043-4c37-e2fd-657e6ca64eb1"
      },
      "outputs": [
        {
          "output_type": "execute_result",
          "data": {
            "text/plain": [
              "SquareFeet      2000\n",
              "Bedrooms           4\n",
              "Bathrooms          3\n",
              "Neighborhood       3\n",
              "YearBuilt         72\n",
              "dtype: int64"
            ]
          },
          "metadata": {},
          "execution_count": 27
        }
      ],
      "source": [
        "X.nunique()"
      ]
    },
    {
      "cell_type": "code",
      "execution_count": null,
      "id": "9e9705e8",
      "metadata": {
        "execution": {
          "iopub.execute_input": "2024-02-05T15:34:23.374381Z",
          "iopub.status.busy": "2024-02-05T15:34:23.373614Z",
          "iopub.status.idle": "2024-02-05T15:34:23.378013Z",
          "shell.execute_reply": "2024-02-05T15:34:23.377104Z"
        },
        "papermill": {
          "duration": 0.024425,
          "end_time": "2024-02-05T15:34:23.380378",
          "exception": false,
          "start_time": "2024-02-05T15:34:23.355953",
          "status": "completed"
        },
        "tags": [],
        "id": "9e9705e8"
      },
      "outputs": [],
      "source": [
        "from sklearn.preprocessing import MinMaxScaler"
      ]
    },
    {
      "cell_type": "code",
      "execution_count": null,
      "id": "20e1da89",
      "metadata": {
        "execution": {
          "iopub.execute_input": "2024-02-05T15:34:23.418175Z",
          "iopub.status.busy": "2024-02-05T15:34:23.417281Z",
          "iopub.status.idle": "2024-02-05T15:34:23.423768Z",
          "shell.execute_reply": "2024-02-05T15:34:23.422262Z"
        },
        "papermill": {
          "duration": 0.030173,
          "end_time": "2024-02-05T15:34:23.427841",
          "exception": false,
          "start_time": "2024-02-05T15:34:23.397668",
          "status": "completed"
        },
        "tags": [],
        "id": "20e1da89"
      },
      "outputs": [],
      "source": [
        "scaler = MinMaxScaler()"
      ]
    },
    {
      "cell_type": "code",
      "execution_count": null,
      "id": "918e4f91",
      "metadata": {
        "execution": {
          "iopub.execute_input": "2024-02-05T15:34:23.472847Z",
          "iopub.status.busy": "2024-02-05T15:34:23.472166Z",
          "iopub.status.idle": "2024-02-05T15:34:23.495145Z",
          "shell.execute_reply": "2024-02-05T15:34:23.493942Z"
        },
        "papermill": {
          "duration": 0.052147,
          "end_time": "2024-02-05T15:34:23.498771",
          "exception": false,
          "start_time": "2024-02-05T15:34:23.446624",
          "status": "completed"
        },
        "tags": [],
        "id": "918e4f91"
      },
      "outputs": [],
      "source": [
        "for col_name in X.columns:\n",
        "    if X[col_name].nunique() > 3:\n",
        "        X[col_name] = scaler.fit_transform(X[[col_name]])"
      ]
    },
    {
      "cell_type": "code",
      "execution_count": null,
      "id": "52f8324e",
      "metadata": {
        "execution": {
          "iopub.execute_input": "2024-02-05T15:34:23.552215Z",
          "iopub.status.busy": "2024-02-05T15:34:23.550976Z",
          "iopub.status.idle": "2024-02-05T15:34:23.564157Z",
          "shell.execute_reply": "2024-02-05T15:34:23.563174Z"
        },
        "papermill": {
          "duration": 0.044424,
          "end_time": "2024-02-05T15:34:23.567100",
          "exception": false,
          "start_time": "2024-02-05T15:34:23.522676",
          "status": "completed"
        },
        "tags": [],
        "colab": {
          "base_uri": "https://localhost:8080/",
          "height": 206
        },
        "id": "52f8324e",
        "outputId": "527c70b4-fec6-4ff2-ee79-0b1233582af2"
      },
      "outputs": [
        {
          "output_type": "execute_result",
          "data": {
            "text/plain": [
              "   SquareFeet  Bedrooms  Bathrooms  Neighborhood  YearBuilt\n",
              "0    0.563282  0.666667          1             0   0.267606\n",
              "1    0.729865  0.333333          2             0   0.422535\n",
              "2    0.430215  0.000000          1             1   0.281690\n",
              "3    0.647324  0.000000          1             2   0.647887\n",
              "4    0.565283  1.000000          2             1   0.718310"
            ],
            "text/html": [
              "\n",
              "  <div id=\"df-cc03414e-4cf5-4063-be70-ac6ff76303fa\" class=\"colab-df-container\">\n",
              "    <div>\n",
              "<style scoped>\n",
              "    .dataframe tbody tr th:only-of-type {\n",
              "        vertical-align: middle;\n",
              "    }\n",
              "\n",
              "    .dataframe tbody tr th {\n",
              "        vertical-align: top;\n",
              "    }\n",
              "\n",
              "    .dataframe thead th {\n",
              "        text-align: right;\n",
              "    }\n",
              "</style>\n",
              "<table border=\"1\" class=\"dataframe\">\n",
              "  <thead>\n",
              "    <tr style=\"text-align: right;\">\n",
              "      <th></th>\n",
              "      <th>SquareFeet</th>\n",
              "      <th>Bedrooms</th>\n",
              "      <th>Bathrooms</th>\n",
              "      <th>Neighborhood</th>\n",
              "      <th>YearBuilt</th>\n",
              "    </tr>\n",
              "  </thead>\n",
              "  <tbody>\n",
              "    <tr>\n",
              "      <th>0</th>\n",
              "      <td>0.563282</td>\n",
              "      <td>0.666667</td>\n",
              "      <td>1</td>\n",
              "      <td>0</td>\n",
              "      <td>0.267606</td>\n",
              "    </tr>\n",
              "    <tr>\n",
              "      <th>1</th>\n",
              "      <td>0.729865</td>\n",
              "      <td>0.333333</td>\n",
              "      <td>2</td>\n",
              "      <td>0</td>\n",
              "      <td>0.422535</td>\n",
              "    </tr>\n",
              "    <tr>\n",
              "      <th>2</th>\n",
              "      <td>0.430215</td>\n",
              "      <td>0.000000</td>\n",
              "      <td>1</td>\n",
              "      <td>1</td>\n",
              "      <td>0.281690</td>\n",
              "    </tr>\n",
              "    <tr>\n",
              "      <th>3</th>\n",
              "      <td>0.647324</td>\n",
              "      <td>0.000000</td>\n",
              "      <td>1</td>\n",
              "      <td>2</td>\n",
              "      <td>0.647887</td>\n",
              "    </tr>\n",
              "    <tr>\n",
              "      <th>4</th>\n",
              "      <td>0.565283</td>\n",
              "      <td>1.000000</td>\n",
              "      <td>2</td>\n",
              "      <td>1</td>\n",
              "      <td>0.718310</td>\n",
              "    </tr>\n",
              "  </tbody>\n",
              "</table>\n",
              "</div>\n",
              "    <div class=\"colab-df-buttons\">\n",
              "\n",
              "  <div class=\"colab-df-container\">\n",
              "    <button class=\"colab-df-convert\" onclick=\"convertToInteractive('df-cc03414e-4cf5-4063-be70-ac6ff76303fa')\"\n",
              "            title=\"Convert this dataframe to an interactive table.\"\n",
              "            style=\"display:none;\">\n",
              "\n",
              "  <svg xmlns=\"http://www.w3.org/2000/svg\" height=\"24px\" viewBox=\"0 -960 960 960\">\n",
              "    <path d=\"M120-120v-720h720v720H120Zm60-500h600v-160H180v160Zm220 220h160v-160H400v160Zm0 220h160v-160H400v160ZM180-400h160v-160H180v160Zm440 0h160v-160H620v160ZM180-180h160v-160H180v160Zm440 0h160v-160H620v160Z\"/>\n",
              "  </svg>\n",
              "    </button>\n",
              "\n",
              "  <style>\n",
              "    .colab-df-container {\n",
              "      display:flex;\n",
              "      gap: 12px;\n",
              "    }\n",
              "\n",
              "    .colab-df-convert {\n",
              "      background-color: #E8F0FE;\n",
              "      border: none;\n",
              "      border-radius: 50%;\n",
              "      cursor: pointer;\n",
              "      display: none;\n",
              "      fill: #1967D2;\n",
              "      height: 32px;\n",
              "      padding: 0 0 0 0;\n",
              "      width: 32px;\n",
              "    }\n",
              "\n",
              "    .colab-df-convert:hover {\n",
              "      background-color: #E2EBFA;\n",
              "      box-shadow: 0px 1px 2px rgba(60, 64, 67, 0.3), 0px 1px 3px 1px rgba(60, 64, 67, 0.15);\n",
              "      fill: #174EA6;\n",
              "    }\n",
              "\n",
              "    .colab-df-buttons div {\n",
              "      margin-bottom: 4px;\n",
              "    }\n",
              "\n",
              "    [theme=dark] .colab-df-convert {\n",
              "      background-color: #3B4455;\n",
              "      fill: #D2E3FC;\n",
              "    }\n",
              "\n",
              "    [theme=dark] .colab-df-convert:hover {\n",
              "      background-color: #434B5C;\n",
              "      box-shadow: 0px 1px 3px 1px rgba(0, 0, 0, 0.15);\n",
              "      filter: drop-shadow(0px 1px 2px rgba(0, 0, 0, 0.3));\n",
              "      fill: #FFFFFF;\n",
              "    }\n",
              "  </style>\n",
              "\n",
              "    <script>\n",
              "      const buttonEl =\n",
              "        document.querySelector('#df-cc03414e-4cf5-4063-be70-ac6ff76303fa button.colab-df-convert');\n",
              "      buttonEl.style.display =\n",
              "        google.colab.kernel.accessAllowed ? 'block' : 'none';\n",
              "\n",
              "      async function convertToInteractive(key) {\n",
              "        const element = document.querySelector('#df-cc03414e-4cf5-4063-be70-ac6ff76303fa');\n",
              "        const dataTable =\n",
              "          await google.colab.kernel.invokeFunction('convertToInteractive',\n",
              "                                                    [key], {});\n",
              "        if (!dataTable) return;\n",
              "\n",
              "        const docLinkHtml = 'Like what you see? Visit the ' +\n",
              "          '<a target=\"_blank\" href=https://colab.research.google.com/notebooks/data_table.ipynb>data table notebook</a>'\n",
              "          + ' to learn more about interactive tables.';\n",
              "        element.innerHTML = '';\n",
              "        dataTable['output_type'] = 'display_data';\n",
              "        await google.colab.output.renderOutput(dataTable, element);\n",
              "        const docLink = document.createElement('div');\n",
              "        docLink.innerHTML = docLinkHtml;\n",
              "        element.appendChild(docLink);\n",
              "      }\n",
              "    </script>\n",
              "  </div>\n",
              "\n",
              "\n",
              "<div id=\"df-8ded4409-4fb5-4f77-b271-2f5d6e2f17f3\">\n",
              "  <button class=\"colab-df-quickchart\" onclick=\"quickchart('df-8ded4409-4fb5-4f77-b271-2f5d6e2f17f3')\"\n",
              "            title=\"Suggest charts\"\n",
              "            style=\"display:none;\">\n",
              "\n",
              "<svg xmlns=\"http://www.w3.org/2000/svg\" height=\"24px\"viewBox=\"0 0 24 24\"\n",
              "     width=\"24px\">\n",
              "    <g>\n",
              "        <path d=\"M19 3H5c-1.1 0-2 .9-2 2v14c0 1.1.9 2 2 2h14c1.1 0 2-.9 2-2V5c0-1.1-.9-2-2-2zM9 17H7v-7h2v7zm4 0h-2V7h2v10zm4 0h-2v-4h2v4z\"/>\n",
              "    </g>\n",
              "</svg>\n",
              "  </button>\n",
              "\n",
              "<style>\n",
              "  .colab-df-quickchart {\n",
              "      --bg-color: #E8F0FE;\n",
              "      --fill-color: #1967D2;\n",
              "      --hover-bg-color: #E2EBFA;\n",
              "      --hover-fill-color: #174EA6;\n",
              "      --disabled-fill-color: #AAA;\n",
              "      --disabled-bg-color: #DDD;\n",
              "  }\n",
              "\n",
              "  [theme=dark] .colab-df-quickchart {\n",
              "      --bg-color: #3B4455;\n",
              "      --fill-color: #D2E3FC;\n",
              "      --hover-bg-color: #434B5C;\n",
              "      --hover-fill-color: #FFFFFF;\n",
              "      --disabled-bg-color: #3B4455;\n",
              "      --disabled-fill-color: #666;\n",
              "  }\n",
              "\n",
              "  .colab-df-quickchart {\n",
              "    background-color: var(--bg-color);\n",
              "    border: none;\n",
              "    border-radius: 50%;\n",
              "    cursor: pointer;\n",
              "    display: none;\n",
              "    fill: var(--fill-color);\n",
              "    height: 32px;\n",
              "    padding: 0;\n",
              "    width: 32px;\n",
              "  }\n",
              "\n",
              "  .colab-df-quickchart:hover {\n",
              "    background-color: var(--hover-bg-color);\n",
              "    box-shadow: 0 1px 2px rgba(60, 64, 67, 0.3), 0 1px 3px 1px rgba(60, 64, 67, 0.15);\n",
              "    fill: var(--button-hover-fill-color);\n",
              "  }\n",
              "\n",
              "  .colab-df-quickchart-complete:disabled,\n",
              "  .colab-df-quickchart-complete:disabled:hover {\n",
              "    background-color: var(--disabled-bg-color);\n",
              "    fill: var(--disabled-fill-color);\n",
              "    box-shadow: none;\n",
              "  }\n",
              "\n",
              "  .colab-df-spinner {\n",
              "    border: 2px solid var(--fill-color);\n",
              "    border-color: transparent;\n",
              "    border-bottom-color: var(--fill-color);\n",
              "    animation:\n",
              "      spin 1s steps(1) infinite;\n",
              "  }\n",
              "\n",
              "  @keyframes spin {\n",
              "    0% {\n",
              "      border-color: transparent;\n",
              "      border-bottom-color: var(--fill-color);\n",
              "      border-left-color: var(--fill-color);\n",
              "    }\n",
              "    20% {\n",
              "      border-color: transparent;\n",
              "      border-left-color: var(--fill-color);\n",
              "      border-top-color: var(--fill-color);\n",
              "    }\n",
              "    30% {\n",
              "      border-color: transparent;\n",
              "      border-left-color: var(--fill-color);\n",
              "      border-top-color: var(--fill-color);\n",
              "      border-right-color: var(--fill-color);\n",
              "    }\n",
              "    40% {\n",
              "      border-color: transparent;\n",
              "      border-right-color: var(--fill-color);\n",
              "      border-top-color: var(--fill-color);\n",
              "    }\n",
              "    60% {\n",
              "      border-color: transparent;\n",
              "      border-right-color: var(--fill-color);\n",
              "    }\n",
              "    80% {\n",
              "      border-color: transparent;\n",
              "      border-right-color: var(--fill-color);\n",
              "      border-bottom-color: var(--fill-color);\n",
              "    }\n",
              "    90% {\n",
              "      border-color: transparent;\n",
              "      border-bottom-color: var(--fill-color);\n",
              "    }\n",
              "  }\n",
              "</style>\n",
              "\n",
              "  <script>\n",
              "    async function quickchart(key) {\n",
              "      const quickchartButtonEl =\n",
              "        document.querySelector('#' + key + ' button');\n",
              "      quickchartButtonEl.disabled = true;  // To prevent multiple clicks.\n",
              "      quickchartButtonEl.classList.add('colab-df-spinner');\n",
              "      try {\n",
              "        const charts = await google.colab.kernel.invokeFunction(\n",
              "            'suggestCharts', [key], {});\n",
              "      } catch (error) {\n",
              "        console.error('Error during call to suggestCharts:', error);\n",
              "      }\n",
              "      quickchartButtonEl.classList.remove('colab-df-spinner');\n",
              "      quickchartButtonEl.classList.add('colab-df-quickchart-complete');\n",
              "    }\n",
              "    (() => {\n",
              "      let quickchartButtonEl =\n",
              "        document.querySelector('#df-8ded4409-4fb5-4f77-b271-2f5d6e2f17f3 button');\n",
              "      quickchartButtonEl.style.display =\n",
              "        google.colab.kernel.accessAllowed ? 'block' : 'none';\n",
              "    })();\n",
              "  </script>\n",
              "</div>\n",
              "\n",
              "    </div>\n",
              "  </div>\n"
            ],
            "application/vnd.google.colaboratory.intrinsic+json": {
              "type": "dataframe",
              "variable_name": "X",
              "summary": "{\n  \"name\": \"X\",\n  \"rows\": 50000,\n  \"fields\": [\n    {\n      \"column\": \"SquareFeet\",\n      \"properties\": {\n        \"dtype\": \"number\",\n        \"std\": 0.28790057092376936,\n        \"min\": 0.0,\n        \"max\": 0.9999999999999999,\n        \"num_unique_values\": 2000,\n        \"samples\": [\n          0.7893946973486744,\n          0.625312656328164,\n          0.2926463231615808\n        ],\n        \"semantic_type\": \"\",\n        \"description\": \"\"\n      }\n    },\n    {\n      \"column\": \"Bedrooms\",\n      \"properties\": {\n        \"dtype\": \"number\",\n        \"std\": 0.37210859132855184,\n        \"min\": 0.0,\n        \"max\": 0.9999999999999999,\n        \"num_unique_values\": 4,\n        \"samples\": [\n          0.33333333333333337,\n          0.9999999999999999,\n          0.6666666666666666\n        ],\n        \"semantic_type\": \"\",\n        \"description\": \"\"\n      }\n    },\n    {\n      \"column\": \"Bathrooms\",\n      \"properties\": {\n        \"dtype\": \"number\",\n        \"std\": 0,\n        \"min\": 1,\n        \"max\": 3,\n        \"num_unique_values\": 3,\n        \"samples\": [\n          1,\n          2,\n          3\n        ],\n        \"semantic_type\": \"\",\n        \"description\": \"\"\n      }\n    },\n    {\n      \"column\": \"Neighborhood\",\n      \"properties\": {\n        \"dtype\": \"number\",\n        \"std\": 0,\n        \"min\": 0,\n        \"max\": 2,\n        \"num_unique_values\": 3,\n        \"samples\": [\n          0,\n          1,\n          2\n        ],\n        \"semantic_type\": \"\",\n        \"description\": \"\"\n      }\n    },\n    {\n      \"column\": \"YearBuilt\",\n      \"properties\": {\n        \"dtype\": \"number\",\n        \"std\": 0.2918222068650035,\n        \"min\": 0.0,\n        \"max\": 1.0,\n        \"num_unique_values\": 72,\n        \"samples\": [\n          0.7183098591549282,\n          0.2394366197183082,\n          0.16901408450704025\n        ],\n        \"semantic_type\": \"\",\n        \"description\": \"\"\n      }\n    }\n  ]\n}"
            }
          },
          "metadata": {},
          "execution_count": 31
        }
      ],
      "source": [
        "X.head(5)"
      ]
    },
    {
      "cell_type": "markdown",
      "id": "dbec222d",
      "metadata": {
        "papermill": {
          "duration": 0.023448,
          "end_time": "2024-02-05T15:34:23.614276",
          "exception": false,
          "start_time": "2024-02-05T15:34:23.590828",
          "status": "completed"
        },
        "tags": [],
        "id": "dbec222d"
      },
      "source": [
        "# Train Test Split"
      ]
    },
    {
      "cell_type": "code",
      "execution_count": null,
      "id": "5bf95e44",
      "metadata": {
        "execution": {
          "iopub.execute_input": "2024-02-05T15:34:23.664226Z",
          "iopub.status.busy": "2024-02-05T15:34:23.663245Z",
          "iopub.status.idle": "2024-02-05T15:34:23.797000Z",
          "shell.execute_reply": "2024-02-05T15:34:23.795807Z"
        },
        "papermill": {
          "duration": 0.162045,
          "end_time": "2024-02-05T15:34:23.800177",
          "exception": false,
          "start_time": "2024-02-05T15:34:23.638132",
          "status": "completed"
        },
        "tags": [],
        "id": "5bf95e44"
      },
      "outputs": [],
      "source": [
        "from sklearn.model_selection import train_test_split"
      ]
    },
    {
      "cell_type": "code",
      "execution_count": null,
      "id": "5409cfa9",
      "metadata": {
        "execution": {
          "iopub.execute_input": "2024-02-05T15:34:23.850280Z",
          "iopub.status.busy": "2024-02-05T15:34:23.849023Z",
          "iopub.status.idle": "2024-02-05T15:34:23.869734Z",
          "shell.execute_reply": "2024-02-05T15:34:23.868425Z"
        },
        "papermill": {
          "duration": 0.049604,
          "end_time": "2024-02-05T15:34:23.873502",
          "exception": false,
          "start_time": "2024-02-05T15:34:23.823898",
          "status": "completed"
        },
        "tags": [],
        "id": "5409cfa9"
      },
      "outputs": [],
      "source": [
        "X_train, X_test, y_train, y_test = train_test_split(X, y, test_size=0.30, random_state=42)"
      ]
    },
    {
      "cell_type": "markdown",
      "id": "2f6bb13c",
      "metadata": {
        "papermill": {
          "duration": 0.016181,
          "end_time": "2024-02-05T15:34:23.913573",
          "exception": false,
          "start_time": "2024-02-05T15:34:23.897392",
          "status": "completed"
        },
        "tags": [],
        "id": "2f6bb13c"
      },
      "source": [
        "# Model Selection & Training"
      ]
    },
    {
      "cell_type": "code",
      "execution_count": null,
      "id": "c94b4b1c",
      "metadata": {
        "execution": {
          "iopub.execute_input": "2024-02-05T15:34:23.953897Z",
          "iopub.status.busy": "2024-02-05T15:34:23.952529Z",
          "iopub.status.idle": "2024-02-05T15:34:24.255662Z",
          "shell.execute_reply": "2024-02-05T15:34:24.254558Z"
        },
        "papermill": {
          "duration": 0.324768,
          "end_time": "2024-02-05T15:34:24.258136",
          "exception": false,
          "start_time": "2024-02-05T15:34:23.933368",
          "status": "completed"
        },
        "tags": [],
        "id": "c94b4b1c"
      },
      "outputs": [],
      "source": [
        "from sklearn.linear_model import LinearRegression, Ridge, Lasso, ElasticNet\n",
        "from sklearn.svm import SVR\n",
        "from sklearn.tree import DecisionTreeRegressor\n",
        "from sklearn.ensemble import RandomForestRegressor, GradientBoostingRegressor\n",
        "from sklearn.neighbors import KNeighborsRegressor\n",
        "from sklearn.neural_network import MLPRegressor\n",
        "import sklearn.metrics as mt"
      ]
    },
    {
      "cell_type": "code",
      "execution_count": null,
      "id": "0dbb3fbc",
      "metadata": {
        "execution": {
          "iopub.execute_input": "2024-02-05T15:34:24.293605Z",
          "iopub.status.busy": "2024-02-05T15:34:24.292464Z",
          "iopub.status.idle": "2024-02-05T15:34:24.300596Z",
          "shell.execute_reply": "2024-02-05T15:34:24.299584Z"
        },
        "papermill": {
          "duration": 0.028761,
          "end_time": "2024-02-05T15:34:24.303263",
          "exception": false,
          "start_time": "2024-02-05T15:34:24.274502",
          "status": "completed"
        },
        "tags": [],
        "id": "0dbb3fbc"
      },
      "outputs": [],
      "source": [
        "# Initialize all the models\n",
        "linear_model = LinearRegression()\n",
        "ridge_model = Ridge()\n",
        "lasso_model = Lasso()\n",
        "svr_model = SVR()\n",
        "decision_tree_model = DecisionTreeRegressor()\n",
        "random_forest_model = RandomForestRegressor()\n",
        "gradient_boosting_model = GradientBoostingRegressor()\n",
        "knn_model = KNeighborsRegressor()\n",
        "mlp_model = MLPRegressor()\n",
        "elastic_net_model = ElasticNet()\n",
        "\n",
        "# Store the models in a list\n",
        "models = [linear_model, ridge_model, lasso_model, svr_model, decision_tree_model,\n",
        "         random_forest_model, gradient_boosting_model, knn_model, mlp_model, elastic_net_model]\n"
      ]
    },
    {
      "cell_type": "code",
      "execution_count": null,
      "id": "277918aa",
      "metadata": {
        "execution": {
          "iopub.execute_input": "2024-02-05T15:34:24.339028Z",
          "iopub.status.busy": "2024-02-05T15:34:24.337850Z",
          "iopub.status.idle": "2024-02-05T15:34:24.346172Z",
          "shell.execute_reply": "2024-02-05T15:34:24.345161Z"
        },
        "papermill": {
          "duration": 0.029358,
          "end_time": "2024-02-05T15:34:24.348944",
          "exception": false,
          "start_time": "2024-02-05T15:34:24.319586",
          "status": "completed"
        },
        "tags": [],
        "id": "277918aa"
      },
      "outputs": [],
      "source": [
        "def evaluate_performance(y_true,y_pred):\n",
        "    # Assuming y_true and y_pred are actual and predicted values\n",
        "    mae = mt.mean_absolute_error(y_true, y_pred)\n",
        "    mse = mt.mean_squared_error(y_true, y_pred)\n",
        "    rmse = mt.mean_squared_error(y_true, y_pred, squared=False)\n",
        "    r2 = mt.r2_score(y_true, y_pred)\n",
        "\n",
        "    print(f\"MAE: {mae}\")\n",
        "    print(f\"MSE: {mse}\")\n",
        "    print(f\"RMSE: {rmse}\")\n",
        "    print(f\"R-squared: {r2}\")\n"
      ]
    },
    {
      "cell_type": "code",
      "execution_count": null,
      "id": "32c4c09e",
      "metadata": {
        "execution": {
          "iopub.execute_input": "2024-02-05T15:34:24.384038Z",
          "iopub.status.busy": "2024-02-05T15:34:24.382959Z",
          "iopub.status.idle": "2024-02-05T15:34:24.390823Z",
          "shell.execute_reply": "2024-02-05T15:34:24.389907Z"
        },
        "papermill": {
          "duration": 0.028429,
          "end_time": "2024-02-05T15:34:24.393620",
          "exception": false,
          "start_time": "2024-02-05T15:34:24.365191",
          "status": "completed"
        },
        "tags": [],
        "id": "32c4c09e"
      },
      "outputs": [],
      "source": [
        "def train_and_test_regression_models(models,X_train,y_train,X_test,y_test):\n",
        "    for model in models:\n",
        "        model.fit(X_train, y_train)\n",
        "        print(\"Train Score:\")\n",
        "        predicted_y_train = model.predict(X_train)\n",
        "        print(f\"{model}\")\n",
        "        evaluate_performance(y_train,predicted_y_train)\n",
        "        print(\"------------------------------\")\n",
        "        print(\"Test Score:\")\n",
        "        predicted_y_test = model.predict(X_test)\n",
        "        print(f\"{model}\")\n",
        "        evaluate_performance(y_test,predicted_y_test)\n",
        "        print(\"------------------------------\")\n",
        "        print(\"------------------------------\")"
      ]
    },
    {
      "cell_type": "code",
      "execution_count": null,
      "id": "a6a11ae5",
      "metadata": {
        "execution": {
          "iopub.execute_input": "2024-02-05T15:34:24.428465Z",
          "iopub.status.busy": "2024-02-05T15:34:24.428035Z",
          "iopub.status.idle": "2024-02-05T15:38:27.903750Z",
          "shell.execute_reply": "2024-02-05T15:38:27.901639Z"
        },
        "papermill": {
          "duration": 243.573138,
          "end_time": "2024-02-05T15:38:27.983073",
          "exception": false,
          "start_time": "2024-02-05T15:34:24.409935",
          "status": "completed"
        },
        "tags": [],
        "colab": {
          "base_uri": "https://localhost:8080/"
        },
        "id": "a6a11ae5",
        "outputId": "167e647e-b677-4f0a-cce4-995029610ba4"
      },
      "outputs": [
        {
          "output_type": "stream",
          "name": "stdout",
          "text": [
            "Train Score:\n",
            "LinearRegression()\n",
            "MAE: 39970.36708444739\n",
            "MSE: 2502252469.2931614\n",
            "RMSE: 50022.51962159805\n",
            "R-squared: 0.5689591598552597\n",
            "------------------------------\n",
            "Test Score:\n",
            "LinearRegression()\n",
            "MAE: 39741.647169393065\n",
            "MSE: 2468771544.275626\n",
            "RMSE: 49686.73408743652\n",
            "R-squared: 0.5728435816568727\n",
            "------------------------------\n",
            "------------------------------\n",
            "Train Score:\n",
            "Ridge()\n",
            "MAE: 39970.48663430456\n",
            "MSE: 2502252861.265455\n",
            "RMSE: 50022.523539556205\n",
            "R-squared: 0.568959092333669\n",
            "------------------------------\n",
            "Test Score:\n",
            "Ridge()\n",
            "MAE: 39741.47560559037\n",
            "MSE: 2468762797.852934\n",
            "RMSE: 49686.646071685434\n",
            "R-squared: 0.5728450949968167\n",
            "------------------------------\n",
            "------------------------------\n",
            "Train Score:\n",
            "Lasso()\n",
            "MAE: 39970.38492272316\n",
            "MSE: 2502252503.2929106\n",
            "RMSE: 50022.51996144247\n",
            "R-squared: 0.5689591539984243\n",
            "------------------------------\n",
            "Test Score:\n",
            "Lasso()\n",
            "MAE: 39741.62321458877\n",
            "MSE: 2468769539.772183\n",
            "RMSE: 49686.71391601766\n",
            "R-squared: 0.5728439284838253\n",
            "------------------------------\n",
            "------------------------------\n",
            "Train Score:\n",
            "SVR()\n",
            "MAE: 61907.878425122246\n",
            "MSE: 5747934864.370892\n",
            "RMSE: 75815.13611654926\n",
            "R-squared: 0.00985423995383361\n",
            "------------------------------\n",
            "Test Score:\n",
            "SVR()\n",
            "MAE: 61706.75540025172\n",
            "MSE: 5722146653.544267\n",
            "RMSE: 75644.87195801357\n",
            "R-squared: 0.00993201439412239\n",
            "------------------------------\n",
            "------------------------------\n",
            "Train Score:\n",
            "DecisionTreeRegressor()\n",
            "MAE: 181.80169611172443\n",
            "MSE: 7668491.683317503\n",
            "RMSE: 2769.2041606420976\n",
            "R-squared: 0.9986790169503744\n",
            "------------------------------\n",
            "Test Score:\n",
            "DecisionTreeRegressor()\n",
            "MAE: 58434.99161619142\n",
            "MSE: 5321484106.476679\n",
            "RMSE: 72948.50311333797\n",
            "R-squared: 0.07925620073548834\n",
            "------------------------------\n",
            "------------------------------\n",
            "Train Score:\n",
            "RandomForestRegressor()\n",
            "MAE: 15785.644928952179\n",
            "MSE: 397081119.6462158\n",
            "RMSE: 19926.89438036484\n",
            "R-squared: 0.9315983572727703\n",
            "------------------------------\n",
            "Test Score:\n",
            "RandomForestRegressor()\n",
            "MAE: 42456.120745723114\n",
            "MSE: 2827712901.4460115\n",
            "RMSE: 53176.24376961964\n",
            "R-squared: 0.5107381572486736\n",
            "------------------------------\n",
            "------------------------------\n",
            "Train Score:\n",
            "GradientBoostingRegressor()\n",
            "MAE: 39719.52001687027\n",
            "MSE: 2471464431.6367393\n",
            "RMSE: 49713.82535710503\n",
            "R-squared: 0.5742627420399865\n",
            "------------------------------\n",
            "Test Score:\n",
            "GradientBoostingRegressor()\n",
            "MAE: 39807.35622187682\n",
            "MSE: 2477864268.7346363\n",
            "RMSE: 49778.150515408226\n",
            "R-squared: 0.5712703232393825\n",
            "------------------------------\n",
            "------------------------------\n",
            "Train Score:\n",
            "KNeighborsRegressor()\n",
            "MAE: 35700.16431238454\n",
            "MSE: 1997631536.6727023\n",
            "RMSE: 44694.871480659865\n",
            "R-squared: 0.6558857323816475\n",
            "------------------------------\n",
            "Test Score:\n",
            "KNeighborsRegressor()\n",
            "MAE: 43632.26135862281\n",
            "MSE: 2982495747.2791986\n",
            "RMSE: 54612.23074805862\n",
            "R-squared: 0.48395702952530606\n",
            "------------------------------\n",
            "------------------------------\n",
            "Train Score:\n",
            "MLPRegressor()\n",
            "MAE: 61779.62108933277\n",
            "MSE: 5916165967.257963\n",
            "RMSE: 76916.6169774644\n",
            "R-squared: -0.01912544008117245\n",
            "------------------------------\n",
            "Test Score:\n",
            "MLPRegressor()\n",
            "MAE: 61948.16456782738\n",
            "MSE: 5960844164.451712\n",
            "RMSE: 77206.50338185062\n",
            "R-squared: -0.03136835382466341\n",
            "------------------------------\n",
            "------------------------------\n",
            "Train Score:\n",
            "ElasticNet()\n",
            "MAE: 57004.598717093235\n",
            "MSE: 4927564498.371078\n",
            "RMSE: 70196.61315456094\n",
            "R-squared: 0.15117216695354085\n",
            "------------------------------\n",
            "Test Score:\n",
            "ElasticNet()\n",
            "MAE: 56758.267808613986\n",
            "MSE: 4897900553.812361\n",
            "RMSE: 69985.00234916307\n",
            "R-squared: 0.15254626827725326\n",
            "------------------------------\n",
            "------------------------------\n"
          ]
        },
        {
          "output_type": "stream",
          "name": "stderr",
          "text": [
            "/usr/local/lib/python3.10/dist-packages/sklearn/neural_network/_multilayer_perceptron.py:686: ConvergenceWarning: Stochastic Optimizer: Maximum iterations (200) reached and the optimization hasn't converged yet.\n",
            "  warnings.warn(\n"
          ]
        }
      ],
      "source": [
        "train_and_test_regression_models(models,X_train,y_train,X_test,y_test)"
      ]
    },
    {
      "cell_type": "markdown",
      "id": "3f69545a",
      "metadata": {
        "papermill": {
          "duration": 0.01734,
          "end_time": "2024-02-05T15:38:28.029678",
          "exception": false,
          "start_time": "2024-02-05T15:38:28.012338",
          "status": "completed"
        },
        "tags": [],
        "id": "3f69545a"
      },
      "source": [
        "# Analysis and Summary"
      ]
    },
    {
      "cell_type": "markdown",
      "id": "0ca3275f",
      "metadata": {
        "execution": {
          "iopub.execute_input": "2024-01-05T19:16:15.334461Z",
          "iopub.status.busy": "2024-01-05T19:16:15.333971Z",
          "iopub.status.idle": "2024-01-05T19:16:15.351952Z",
          "shell.execute_reply": "2024-01-05T19:16:15.350466Z",
          "shell.execute_reply.started": "2024-01-05T19:16:15.334427Z"
        },
        "papermill": {
          "duration": 0.017377,
          "end_time": "2024-02-05T15:38:28.064930",
          "exception": false,
          "start_time": "2024-02-05T15:38:28.047553",
          "status": "completed"
        },
        "tags": [],
        "id": "0ca3275f"
      },
      "source": [
        "## Linear Regression, Ridge, Lasso\n",
        "\n",
        "- **Insight:** These models exhibit similar performance on both training and testing datasets.\n",
        "- **R-squared (coefficient of determination):** Approximately 57%, indicating that 57% of the variance in the target variable is explained.\n",
        "- **MAE and RMSE:** Provide insights into the average prediction error.\n",
        "\n",
        "## Support Vector Regression (SVR)\n",
        "\n",
        "- **Insight:** SVR shows poor performance on both training and testing datasets.\n",
        "- **R-squared close to 0:** Indicates that the model does not fit the data well.\n",
        "- **Higher MAE and RMSE** Suggest a larger prediction error.\n",
        "\n",
        "## Decision Tree Regressor\n",
        "\n",
        "- **Insight:** The model performs exceptionally well on the training set (R-squared close to 1).\n",
        "- **Overfitting Alert:** On the testing set, the performance drops significantly, indicating potential overfitting.\n",
        "\n",
        "## Random Forest Regressor\n",
        "\n",
        "- **Insight:** Random Forest performs well on both training and testing datasets.\n",
        "- **High R-squared on testing:** Indicates good generalization.\n",
        "- **Lower MAE and RMSE** Compared to linear models, suggesting improved accuracy.\n",
        "\n",
        "## Gradient Boosting Regressor\n",
        "\n",
        "- **Insight:** Similar performance to linear models, but with a slightly higher R-squared on testing.\n",
        "- **Moderate MAE and RMSE ** Values.\n",
        "\n",
        "## K-Nearest Neighbors (KNN) Regressor\n",
        "\n",
        "- **Insight:** KNN performs reasonably well on both training and testing sets.\n",
        "- **Higher R-squared:** Compared to linear models, suggesting a better fit.\n",
        "- **Moderate MAE and RMSE** Values.\n",
        "\n",
        "## MLP Regressor (Neural Network)\n",
        "\n",
        "- **Insight:** The neural network model exhibits poor performance with low R-squared on both sets.\n",
        "- **Higher MAE and RMSE** Values indicate a larger prediction error.\n",
        "\n",
        "## ElasticNet\n",
        "\n",
        "- **Insight:** Similar performance to linear models.\n",
        "- **Moderate R-squared** and prediction errors.\n",
        "\n",
        "**Key Takeaways:**\n",
        "- **Random Forest:** Appears to be a strong performer with good generalization to the testing set.\n",
        "- **Linear models** and **KNN** Provide reasonable results.\n",
        "- **Decision Tree and MLP** Models show signs of potential overfitting or poor generalization.\n",
        "\n",
        "# Recommendations for future work\n",
        "- **Hyperparameter Tuning:** Optimize hyperparameters for models that exhibit potential overfitting.\n",
        "- **Feature Engineering:** Explore feature engineering to improve model performance.\n",
        "- **Ensemble Methods:** Consider ensemble methods to combine models for better overall performance.\n",
        "\n"
      ]
    },
    {
      "cell_type": "code",
      "execution_count": null,
      "id": "47606e50",
      "metadata": {
        "papermill": {
          "duration": 0.018011,
          "end_time": "2024-02-05T15:38:28.100718",
          "exception": false,
          "start_time": "2024-02-05T15:38:28.082707",
          "status": "completed"
        },
        "tags": [],
        "id": "47606e50"
      },
      "outputs": [],
      "source": []
    }
  ],
  "metadata": {
    "kaggle": {
      "accelerator": "none",
      "dataSources": [
        {
          "datasetId": 4037188,
          "sourceId": 7020742,
          "sourceType": "datasetVersion"
        }
      ],
      "dockerImageVersionId": 30626,
      "isGpuEnabled": false,
      "isInternetEnabled": true,
      "language": "python",
      "sourceType": "notebook"
    },
    "kernelspec": {
      "display_name": "Python 3",
      "language": "python",
      "name": "python3"
    },
    "language_info": {
      "codemirror_mode": {
        "name": "ipython",
        "version": 3
      },
      "file_extension": ".py",
      "mimetype": "text/x-python",
      "name": "python",
      "nbconvert_exporter": "python",
      "pygments_lexer": "ipython3",
      "version": "3.10.12"
    },
    "papermill": {
      "default_parameters": {},
      "duration": 254.584025,
      "end_time": "2024-02-05T15:38:28.944885",
      "environment_variables": {},
      "exception": null,
      "input_path": "__notebook__.ipynb",
      "output_path": "__notebook__.ipynb",
      "parameters": {},
      "start_time": "2024-02-05T15:34:14.360860",
      "version": "2.4.0"
    },
    "colab": {
      "provenance": []
    }
  },
  "nbformat": 4,
  "nbformat_minor": 5
}